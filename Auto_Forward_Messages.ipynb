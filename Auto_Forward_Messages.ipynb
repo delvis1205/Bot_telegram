{
  "cells": [
    {
      "cell_type": "markdown",
      "metadata": {
        "id": "view-in-github",
        "colab_type": "text"
      },
      "source": [
        "<a href=\"https://colab.research.google.com/github/delvis1205/Bot_telegram/blob/master/Auto_Forward_Messages.ipynb\" target=\"_parent\"><img src=\"https://colab.research.google.com/assets/colab-badge.svg\" alt=\"Open In Colab\"/></a>"
      ]
    },
    {
      "cell_type": "code",
      "execution_count": 2,
      "metadata": {
        "cellView": "form",
        "id": "ytg4-4lmAhvs",
        "outputId": "72c649b4-9f01-4583-9d32-83b6b34d8865",
        "colab": {
          "base_uri": "https://localhost:8080/"
        }
      },
      "outputs": [
        {
          "output_type": "stream",
          "name": "stdout",
          "text": [
            "Drive already mounted at /content/drive/; to attempt to forcibly remount, call drive.mount(\"/content/drive/\", force_remount=True).\n",
            "Collecting https://github.com/Drrivao/pyrogram/archive/refs/heads/master.zip\n",
            "  Using cached https://github.com/Drrivao/pyrogram/archive/refs/heads/master.zip\n",
            "  Preparing metadata (setup.py) ... \u001b[?25l\u001b[?25hdone\n",
            "Requirement already satisfied: tgcrypto in /usr/local/lib/python3.11/dist-packages (1.2.5)\n",
            "Requirement already satisfied: pyaes==1.6.1 in /usr/local/lib/python3.11/dist-packages (from Pyrogram==2.0.97) (1.6.1)\n",
            "Requirement already satisfied: pysocks==1.7.1 in /usr/local/lib/python3.11/dist-packages (from Pyrogram==2.0.97) (1.7.1)\n",
            "mkdir: cannot create directory ‘/content/drive/MyDrive/Auto Forward Messages’: File exists\n",
            "/content/drive/MyDrive/Auto Forward Messages\n",
            "--2025-02-07 15:20:38--  https://raw.githubusercontent.com/Drrivao/Clonechat-Telegram-Colab/main/auto_forward_messages.py\n",
            "Resolving raw.githubusercontent.com (raw.githubusercontent.com)... 185.199.110.133, 185.199.109.133, 185.199.111.133, ...\n",
            "Connecting to raw.githubusercontent.com (raw.githubusercontent.com)|185.199.110.133|:443... connected.\n",
            "HTTP request sent, awaiting response... 200 OK\n",
            "Length: 6271 (6.1K) [text/plain]\n",
            "Saving to: ‘auto_forward_messages.py’\n",
            "\n",
            "auto_forward_messag 100%[===================>]   6.12K  --.-KB/s    in 0s      \n",
            "\n",
            "Last-modified header missing -- time-stamps turned off.\n",
            "2025-02-07 15:20:38 (15.5 MB/s) - ‘auto_forward_messages.py’ saved [6271/6271]\n",
            "\n",
            "--2025-02-07 15:20:38--  https://raw.githubusercontent.com/Drrivao/Clonechat-Telegram-Colab/main/Auto_Forward_Messages.ipynb\n",
            "Reusing existing connection to raw.githubusercontent.com:443.\n",
            "HTTP request sent, awaiting response... 200 OK\n",
            "Length: 4361 (4.3K) [text/plain]\n",
            "Saving to: ‘Auto_Forward_Messages.ipynb’\n",
            "\n",
            "Auto_Forward_Messag 100%[===================>]   4.26K  --.-KB/s    in 0s      \n",
            "\n",
            "Last-modified header missing -- time-stamps turned off.\n",
            "2025-02-07 15:20:38 (14.4 MB/s) - ‘Auto_Forward_Messages.ipynb’ saved [4361/4361]\n",
            "\n",
            "FINISHED --2025-02-07 15:20:38--\n",
            "Total wall clock time: 0.08s\n",
            "Downloaded: 2 files, 10K in 0.001s (15.1 MB/s)\n"
          ]
        }
      ],
      "source": [
        "#@title *Start*\n",
        "from google.colab import drive\n",
        "drive.mount('/content/drive/')\n",
        "\n",
        "!pip install tgcrypto https://github.com/Drrivao/pyrogram/archive/refs/heads/master.zip\n",
        "\n",
        "!mkdir \"/content/drive/MyDrive/Auto Forward Messages\"\n",
        "%cd \"/content/drive/MyDrive/Auto Forward Messages\"\n",
        "!wget -N https://raw.githubusercontent.com/Drrivao/Clonechat-Telegram-Colab/main/auto_forward_messages.py\\\n",
        "https://raw.githubusercontent.com/Drrivao/Clonechat-Telegram-Colab/main/Auto_Forward_Messages.ipynb"
      ]
    },
    {
      "cell_type": "code",
      "execution_count": null,
      "metadata": {
        "cellView": "form",
        "colab": {
          "base_uri": "https://localhost:8080/"
        },
        "id": "P_vhraErvs9s",
        "outputId": "29dbc68d-cfd7-429f-e39a-d2077a03b85a"
      },
      "outputs": [
        {
          "name": "stdout",
          "output_type": "stream",
          "text": [
            "\u001b[H\u001b[2J"
          ]
        }
      ],
      "source": [
        "#@title *Credenciais*\n",
        "\n",
        "API_ID=\"13445725\" #@param {type:\"string\"}\n",
        "API_HASH=\"d3cce8cd864332052b69b91682b1e413\" #@param {type:\"string\"}\n",
        "BOT_TOKEN=\"7515342058:AAE6cuL1Re5rREeCAurWYWGwqmxjRqSm02I\" #@param {type:\"string\"}\n",
        "\n",
        "if BOT_TOKEN == \"YOUR BOT TOKEN HERE\"\\\n",
        "or BOT_TOKEN == \"\":BOT_TOKEN=\"\"\n",
        "else:BOT_TOKEN=f\"-b '{BOT_TOKEN}'\"\n",
        "\n",
        "API_ID=f\"-i '{API_ID}'\"\n",
        "API_HASH=f\"-s '{API_HASH}'\"\n",
        "\n",
        "!python auto_forward_messages.py $API_ID $API_HASH $BOT_TOKEN"
      ]
    },
    {
      "cell_type": "code",
      "execution_count": null,
      "metadata": {
        "cellView": "form",
        "id": "1koiNrYQ9POu"
      },
      "outputs": [],
      "source": [
        "#@title  *Clonar canal*\n",
        "\n",
        "ORIG = \"@pamellapampam3\" #@param {type:\"string\"}\n",
        "DEST = \"@PamellaPam3\" #@param {type:\"string\"}\n",
        "\n",
        "MODE=\"user\" #@param [\"user\",\"bot\"]\n",
        "FILTER = \"all types\" #@param [\"all types\", \"photo\", \"text\", \"document\", \"sticker\", \"animation\", \"audio\", \"voice\", \"video\", \"poll\"] {allow-input: true}\n",
        "QUERY = None #@param [] {type:\"raw\", allow-input: true}\n",
        "LIMIT = 300 #@param {type:\"integer\"}\n",
        "RESUME = True #@param {type:\"boolean\"}\n",
        "RESTART = True #@param {type:\"boolean\"}\n",
        "if LIMIT < 0: LIMIT=LIMIT*-1\n",
        "\n",
        "ORIG=f\"-o '{ORIG}'\"\n",
        "DEST=f\"-d '{DEST}'\" if DEST != \"\" else \"\"\n",
        "MODE=f\"-m {MODE}\"\n",
        "QUERY=f\"-q '{QUERY}'\" if QUERY is not None else \"\"\n",
        "RESUME=f\"-r\" if RESUME is True else \"\"\n",
        "RESTART=f\"-R\" if RESTART is True else \"\"\n",
        "LIMIT=f\"-l {LIMIT}\"\n",
        "FILTER=f\"-f '{FILTER}'\" if FILTER != \"all types\" else \"\"\n",
        "\n",
        "!python auto_forward_messages.py $ORIG $DEST $MODE $QUERY $RESUME $LIMIT $FILTER $RESTART"
      ]
    }
  ],
  "metadata": {
    "colab": {
      "provenance": [],
      "include_colab_link": true
    },
    "kernelspec": {
      "display_name": "Python 3.11.0rc2 64-bit",
      "language": "python",
      "name": "python3"
    },
    "language_info": {
      "name": "python",
      "version": "3.11.0"
    },
    "vscode": {
      "interpreter": {
        "hash": "e7370f93d1d0cde622a1f8e1c04877d8463912d04d973331ad4851f04de6915a"
      }
    }
  },
  "nbformat": 4,
  "nbformat_minor": 0
}